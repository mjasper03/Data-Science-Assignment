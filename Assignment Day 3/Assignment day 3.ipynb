{
 "cells": [
  {
   "cell_type": "markdown",
   "metadata": {},
   "source": [
    "# Assignment Day 3"
   ]
  },
  {
   "cell_type": "markdown",
   "metadata": {},
   "source": [
    "# 1"
   ]
  },
  {
   "cell_type": "code",
   "execution_count": 2,
   "metadata": {},
   "outputs": [],
   "source": [
    "import numpy as np"
   ]
  },
  {
   "cell_type": "code",
   "execution_count": 4,
   "metadata": {},
   "outputs": [],
   "source": [
    "arr1=np.arange(3,50,3)"
   ]
  },
  {
   "cell_type": "code",
   "execution_count": 5,
   "metadata": {},
   "outputs": [
    {
     "name": "stdout",
     "output_type": "stream",
     "text": [
      "[ 3  6  9 12 15 18 21 24 27 30 33 36 39 42 45 48]\n"
     ]
    }
   ],
   "source": [
    "print(arr1)"
   ]
  },
  {
   "cell_type": "markdown",
   "metadata": {},
   "source": [
    "# 2"
   ]
  },
  {
   "cell_type": "code",
   "execution_count": 7,
   "metadata": {},
   "outputs": [
    {
     "name": "stdout",
     "output_type": "stream",
     "text": [
      "1\n",
      "2\n",
      "3\n",
      "4\n",
      "5\n",
      "6\n",
      "7\n",
      "8\n",
      "9\n",
      "0\n",
      "[1 2 3 4 5]\n",
      "[6 7 8 9 0]\n",
      "[1 2 3 4 5 6 7 8 9 0]\n",
      "[1 2 3 4 5]\n",
      "[0 6 7 8 9]\n"
     ]
    }
   ],
   "source": [
    "list1=[]\n",
    "list2=[]\n",
    "\n",
    "for i in range(5):\n",
    "    element1=int(input())\n",
    "    list1.append(element1)\n",
    "for j in range(5):\n",
    "    element2=int(input())\n",
    "    list2.append(element2)\n",
    "\n",
    "arr2=np.array(list1)\n",
    "arr3=np.array(list2)\n",
    "print(arr2)\n",
    "print(arr3)\n",
    "arrc=np.concatenate((arr2,arr3))\n",
    "print(arrc)\n",
    "print(np.sort(arr2))\n",
    "print(np.sort(arr3))"
   ]
  },
  {
   "cell_type": "markdown",
   "metadata": {},
   "source": [
    "# 3"
   ]
  },
  {
   "cell_type": "code",
   "execution_count": 10,
   "metadata": {},
   "outputs": [
    {
     "name": "stdout",
     "output_type": "stream",
     "text": [
      "[[[ 0  1  2]\n",
      "  [ 3  4  5]]\n",
      "\n",
      " [[ 6  7  8]\n",
      "  [ 9 10 11]]]\n",
      "3\n",
      "4\n"
     ]
    }
   ],
   "source": [
    "arr4=np.arange(12).reshape(2,2,3)\n",
    "print(arr4)\n",
    "print(arr4.ndim)\n",
    "print(arr4.itemsize)"
   ]
  },
  {
   "cell_type": "markdown",
   "metadata": {},
   "source": [
    "# 4"
   ]
  },
  {
   "cell_type": "code",
   "execution_count": 3,
   "metadata": {},
   "outputs": [
    {
     "name": "stdout",
     "output_type": "stream",
     "text": [
      "[0 1 2 3 4]\n",
      "1\n",
      "[[0]\n",
      " [1]\n",
      " [2]\n",
      " [3]\n",
      " [4]]\n",
      "2\n",
      "[[0]\n",
      " [1]\n",
      " [2]\n",
      " [3]\n",
      " [4]]\n",
      "[[0 1 2 3 4]]\n"
     ]
    }
   ],
   "source": [
    "arr5=np.arange(5)\n",
    "print(arr5)\n",
    "print(arr5.ndim)\n",
    "arr6 = np.expand_dims(arr5, axis=1) #using np.expand_dims\n",
    "print(arr6)\n",
    "print(arr6.ndim)\n",
    "arr5r=arr5[np.newaxis,:]   #using np.newaxis\n",
    "arr5c=arr5[:,np.newaxis]\n",
    "print(arr5c)\n",
    "print(arr5r)"
   ]
  },
  {
   "cell_type": "markdown",
   "metadata": {},
   "source": [
    "# 5"
   ]
  },
  {
   "cell_type": "code",
   "execution_count": 7,
   "metadata": {},
   "outputs": [
    {
     "name": "stdout",
     "output_type": "stream",
     "text": [
      "[ 1  4  9 16]\n",
      "[25 36 49 64]\n",
      "\n",
      "[ 1  4  9 16 25 36 49 64]\n",
      "[[ 1  4  9 16]\n",
      " [25 36 49 64]]\n"
     ]
    }
   ],
   "source": [
    "arr7=np.square([1,2,3,4])\n",
    "arr8=np.square([5,6,7,8])\n",
    "print(arr7)\n",
    "print(arr8)\n",
    "print()\n",
    "print(np.hstack((arr7,arr8)))\n",
    "print(np.vstack((arr7,arr8)))"
   ]
  },
  {
   "cell_type": "markdown",
   "metadata": {},
   "source": [
    "# 6"
   ]
  },
  {
   "cell_type": "code",
   "execution_count": 19,
   "metadata": {},
   "outputs": [
    {
     "name": "stdout",
     "output_type": "stream",
     "text": [
      "[1 2 3 4 5 6 7]\n",
      "[[1 2]\n",
      " [2 2]\n",
      " [3 2]\n",
      " [4 2]\n",
      " [5 3]\n",
      " [6 1]\n",
      " [7 1]]\n"
     ]
    }
   ],
   "source": [
    "arr9=np.array([1,2,3,2,1,3,5,4,5,5,6,7,4])\n",
    "print(np.unique(arr9))\n",
    "(unique,counts)=np.unique(arr9,return_counts=True)\n",
    "freq=np.asarray((unique, counts)).T\n",
    "print(freq)"
   ]
  },
  {
   "cell_type": "code",
   "execution_count": null,
   "metadata": {},
   "outputs": [],
   "source": []
  }
 ],
 "metadata": {
  "kernelspec": {
   "display_name": "Python 3",
   "language": "python",
   "name": "python3"
  },
  "language_info": {
   "codemirror_mode": {
    "name": "ipython",
    "version": 3
   },
   "file_extension": ".py",
   "mimetype": "text/x-python",
   "name": "python",
   "nbconvert_exporter": "python",
   "pygments_lexer": "ipython3",
   "version": "3.8.3"
  }
 },
 "nbformat": 4,
 "nbformat_minor": 4
}
