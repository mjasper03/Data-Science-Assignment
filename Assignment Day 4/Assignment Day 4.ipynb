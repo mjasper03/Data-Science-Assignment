{
 "cells": [
  {
   "cell_type": "markdown",
   "metadata": {},
   "source": [
    "# Assignment Day 4"
   ]
  },
  {
   "cell_type": "markdown",
   "metadata": {},
   "source": [
    "# 1"
   ]
  },
  {
   "cell_type": "code",
   "execution_count": 2,
   "metadata": {},
   "outputs": [],
   "source": [
    "import pandas as pd"
   ]
  },
  {
   "cell_type": "code",
   "execution_count": 3,
   "metadata": {},
   "outputs": [
    {
     "name": "stdout",
     "output_type": "stream",
     "text": [
      "1.0.5\n"
     ]
    }
   ],
   "source": [
    "print(pd.__version__)"
   ]
  },
  {
   "cell_type": "markdown",
   "metadata": {},
   "source": [
    "# 2"
   ]
  },
  {
   "cell_type": "code",
   "execution_count": 14,
   "metadata": {},
   "outputs": [
    {
     "name": "stdout",
     "output_type": "stream",
     "text": [
      "0    1\n",
      "1    2\n",
      "2    3\n",
      "3    4\n",
      "4    5\n",
      "5    6\n",
      "dtype: int32\n"
     ]
    }
   ],
   "source": [
    "import numpy as np\n",
    "arr=np.array([1,2,3,4,5,6])\n",
    "series=pd.Series(arr)\n",
    "print(series)"
   ]
  },
  {
   "cell_type": "markdown",
   "metadata": {},
   "source": [
    "# 3"
   ]
  },
  {
   "cell_type": "code",
   "execution_count": 11,
   "metadata": {},
   "outputs": [
    {
     "name": "stdout",
     "output_type": "stream",
     "text": [
      "Lewis Hamilton        6\n",
      "Micheal schumacher    7\n",
      "Sebastian Vettel      4\n",
      "Kimi Raikonan         1\n",
      "dtype: int64\n",
      "                index  0\n",
      "0      Lewis Hamilton  6\n",
      "1  Micheal schumacher  7\n",
      "2    Sebastian Vettel  4\n",
      "3       Kimi Raikonan  1\n"
     ]
    }
   ],
   "source": [
    "f1=pd.Series({\"Lewis Hamilton\":6,\"Micheal schumacher\":7,\"Sebastian Vettel\":4,\"Kimi Raikonan\":1})\n",
    "print(f1)\n",
    "formula1 = f1.to_frame().reset_index() \n",
    "print(formula1)"
   ]
  },
  {
   "cell_type": "markdown",
   "metadata": {},
   "source": [
    "# 4"
   ]
  },
  {
   "cell_type": "code",
   "execution_count": 27,
   "metadata": {},
   "outputs": [
    {
     "data": {
      "text/plain": [
       "['anagrams',\n",
       " 'anscombe',\n",
       " 'attention',\n",
       " 'brain_networks',\n",
       " 'car_crashes',\n",
       " 'diamonds',\n",
       " 'dots',\n",
       " 'exercise',\n",
       " 'flights',\n",
       " 'fmri',\n",
       " 'gammas',\n",
       " 'geyser',\n",
       " 'iris',\n",
       " 'mpg',\n",
       " 'penguins',\n",
       " 'planets',\n",
       " 'tips',\n",
       " 'titanic']"
      ]
     },
     "execution_count": 27,
     "metadata": {},
     "output_type": "execute_result"
    }
   ],
   "source": [
    "import seaborn as sns\n",
    "sns.get_dataset_names()"
   ]
  },
  {
   "cell_type": "code",
   "execution_count": 29,
   "metadata": {},
   "outputs": [
    {
     "name": "stdout",
     "output_type": "stream",
     "text": [
      "      mpg  cylinders  displacement  horsepower  weight  acceleration  \\\n",
      "0    18.0          8         307.0       130.0    3504          12.0   \n",
      "1    15.0          8         350.0       165.0    3693          11.5   \n",
      "2    18.0          8         318.0       150.0    3436          11.0   \n",
      "3    16.0          8         304.0       150.0    3433          12.0   \n",
      "4    17.0          8         302.0       140.0    3449          10.5   \n",
      "..    ...        ...           ...         ...     ...           ...   \n",
      "393  27.0          4         140.0        86.0    2790          15.6   \n",
      "394  44.0          4          97.0        52.0    2130          24.6   \n",
      "395  32.0          4         135.0        84.0    2295          11.6   \n",
      "396  28.0          4         120.0        79.0    2625          18.6   \n",
      "397  31.0          4         119.0        82.0    2720          19.4   \n",
      "\n",
      "     model_year  origin                       name  \n",
      "0            70     usa  chevrolet chevelle malibu  \n",
      "1            70     usa          buick skylark 320  \n",
      "2            70     usa         plymouth satellite  \n",
      "3            70     usa              amc rebel sst  \n",
      "4            70     usa                ford torino  \n",
      "..          ...     ...                        ...  \n",
      "393          82     usa            ford mustang gl  \n",
      "394          82  europe                  vw pickup  \n",
      "395          82     usa              dodge rampage  \n",
      "396          82     usa                ford ranger  \n",
      "397          82     usa                 chevy s-10  \n",
      "\n",
      "[398 rows x 9 columns]\n"
     ]
    }
   ],
   "source": [
    "mpg=sns.load_dataset(\"mpg\")\n",
    "print(mpg)"
   ]
  },
  {
   "cell_type": "markdown",
   "metadata": {},
   "source": [
    "# 5"
   ]
  },
  {
   "cell_type": "code",
   "execution_count": 32,
   "metadata": {},
   "outputs": [
    {
     "data": {
      "text/plain": [
       "array(['usa', 'japan', 'europe'], dtype=object)"
      ]
     },
     "execution_count": 32,
     "metadata": {},
     "output_type": "execute_result"
    }
   ],
   "source": [
    "mpg['origin'].unique()"
   ]
  },
  {
   "cell_type": "markdown",
   "metadata": {},
   "source": [
    "# 6"
   ]
  },
  {
   "cell_type": "code",
   "execution_count": 51,
   "metadata": {},
   "outputs": [
    {
     "name": "stdout",
     "output_type": "stream",
     "text": [
      "      mpg  cylinders  displacement  horsepower  weight  acceleration  \\\n",
      "0    18.0          8         307.0       130.0    3504          12.0   \n",
      "1    15.0          8         350.0       165.0    3693          11.5   \n",
      "2    18.0          8         318.0       150.0    3436          11.0   \n",
      "3    16.0          8         304.0       150.0    3433          12.0   \n",
      "4    17.0          8         302.0       140.0    3449          10.5   \n",
      "..    ...        ...           ...         ...     ...           ...   \n",
      "392  27.0          4         151.0        90.0    2950          17.3   \n",
      "393  27.0          4         140.0        86.0    2790          15.6   \n",
      "395  32.0          4         135.0        84.0    2295          11.6   \n",
      "396  28.0          4         120.0        79.0    2625          18.6   \n",
      "397  31.0          4         119.0        82.0    2720          19.4   \n",
      "\n",
      "     model_year origin                       name  \n",
      "0            70    usa  chevrolet chevelle malibu  \n",
      "1            70    usa          buick skylark 320  \n",
      "2            70    usa         plymouth satellite  \n",
      "3            70    usa              amc rebel sst  \n",
      "4            70    usa                ford torino  \n",
      "..          ...    ...                        ...  \n",
      "392          82    usa           chevrolet camaro  \n",
      "393          82    usa            ford mustang gl  \n",
      "395          82    usa              dodge rampage  \n",
      "396          82    usa                ford ranger  \n",
      "397          82    usa                 chevy s-10  \n",
      "\n",
      "[249 rows x 9 columns]\n"
     ]
    }
   ],
   "source": [
    "mpg=pd.DataFrame(mpg)\n",
    "\n",
    "mpg=mpg[mpg['origin'].str.contains(\"usa\")]\n",
    "print(mpg)"
   ]
  },
  {
   "cell_type": "code",
   "execution_count": 53,
   "metadata": {},
   "outputs": [
    {
     "data": {
      "text/plain": [
       "['chevrolet chevelle malibu',\n",
       " 'buick skylark 320',\n",
       " 'plymouth satellite',\n",
       " 'amc rebel sst',\n",
       " 'ford torino',\n",
       " 'ford galaxie 500',\n",
       " 'chevrolet impala',\n",
       " 'plymouth fury iii',\n",
       " 'pontiac catalina',\n",
       " 'amc ambassador dpl',\n",
       " 'dodge challenger se',\n",
       " \"plymouth 'cuda 340\",\n",
       " 'chevrolet monte carlo',\n",
       " 'buick estate wagon (sw)',\n",
       " 'plymouth duster',\n",
       " 'amc hornet',\n",
       " 'ford maverick',\n",
       " 'amc gremlin',\n",
       " 'ford f250',\n",
       " 'chevy c20',\n",
       " 'dodge d200',\n",
       " 'hi 1200d',\n",
       " 'chevrolet vega 2300',\n",
       " 'ford pinto',\n",
       " 'amc gremlin',\n",
       " 'plymouth satellite custom',\n",
       " 'chevrolet chevelle malibu',\n",
       " 'ford torino 500',\n",
       " 'amc matador',\n",
       " 'chevrolet impala',\n",
       " 'pontiac catalina brougham',\n",
       " 'ford galaxie 500',\n",
       " 'plymouth fury iii',\n",
       " 'dodge monaco (sw)',\n",
       " 'ford country squire (sw)',\n",
       " 'pontiac safari (sw)',\n",
       " 'amc hornet sportabout (sw)',\n",
       " 'chevrolet vega (sw)',\n",
       " 'pontiac firebird',\n",
       " 'ford mustang',\n",
       " 'mercury capri 2000',\n",
       " 'plymouth cricket',\n",
       " 'dodge colt hardtop',\n",
       " 'chevrolet vega',\n",
       " 'ford pinto runabout',\n",
       " 'chevrolet impala',\n",
       " 'pontiac catalina',\n",
       " 'plymouth fury iii',\n",
       " 'ford galaxie 500',\n",
       " 'amc ambassador sst',\n",
       " 'mercury marquis',\n",
       " 'buick lesabre custom',\n",
       " 'oldsmobile delta 88 royale',\n",
       " 'chrysler newport royal',\n",
       " 'amc matador (sw)',\n",
       " 'chevrolet chevelle concours (sw)',\n",
       " 'ford gran torino (sw)',\n",
       " 'plymouth satellite custom (sw)',\n",
       " 'ford pinto (sw)',\n",
       " 'dodge colt (sw)',\n",
       " 'buick century 350',\n",
       " 'amc matador',\n",
       " 'chevrolet malibu',\n",
       " 'ford gran torino',\n",
       " 'dodge coronet custom',\n",
       " 'mercury marquis brougham',\n",
       " 'chevrolet caprice classic',\n",
       " 'ford ltd',\n",
       " 'plymouth fury gran sedan',\n",
       " 'chrysler new yorker brougham',\n",
       " 'buick electra 225 custom',\n",
       " 'amc ambassador brougham',\n",
       " 'plymouth valiant',\n",
       " 'chevrolet nova custom',\n",
       " 'amc hornet',\n",
       " 'ford maverick',\n",
       " 'plymouth duster',\n",
       " 'chevrolet impala',\n",
       " 'ford country',\n",
       " 'plymouth custom suburb',\n",
       " 'oldsmobile vista cruiser',\n",
       " 'amc gremlin',\n",
       " 'chevrolet vega',\n",
       " 'ford pinto',\n",
       " 'mercury capri v6',\n",
       " 'chevrolet monte carlo s',\n",
       " 'pontiac grand prix',\n",
       " 'dodge dart custom',\n",
       " 'oldsmobile omega',\n",
       " 'plymouth duster',\n",
       " 'ford maverick',\n",
       " 'amc hornet',\n",
       " 'chevrolet nova',\n",
       " 'ford pinto',\n",
       " 'chevrolet vega',\n",
       " 'chevrolet chevelle malibu classic',\n",
       " 'amc matador',\n",
       " 'plymouth satellite sebring',\n",
       " 'ford gran torino',\n",
       " 'buick century luxus (sw)',\n",
       " 'dodge coronet custom (sw)',\n",
       " 'ford gran torino (sw)',\n",
       " 'amc matador (sw)',\n",
       " 'dodge colt',\n",
       " 'plymouth valiant custom',\n",
       " 'chevrolet nova',\n",
       " 'mercury monarch',\n",
       " 'ford maverick',\n",
       " 'pontiac catalina',\n",
       " 'chevrolet bel air',\n",
       " 'plymouth grand fury',\n",
       " 'ford ltd',\n",
       " 'buick century',\n",
       " 'chevroelt chevelle malibu',\n",
       " 'amc matador',\n",
       " 'plymouth fury',\n",
       " 'buick skyhawk',\n",
       " 'chevrolet monza 2+2',\n",
       " 'ford mustang ii',\n",
       " 'ford pinto',\n",
       " 'amc gremlin',\n",
       " 'pontiac astro',\n",
       " 'ford pinto',\n",
       " 'amc pacer',\n",
       " 'capri ii',\n",
       " 'dodge colt',\n",
       " 'chevrolet chevelle malibu classic',\n",
       " 'dodge coronet brougham',\n",
       " 'amc matador',\n",
       " 'ford gran torino',\n",
       " 'plymouth valiant',\n",
       " 'chevrolet nova',\n",
       " 'ford maverick',\n",
       " 'amc hornet',\n",
       " 'chevrolet chevette',\n",
       " 'chevrolet woody',\n",
       " 'dodge aspen se',\n",
       " 'ford granada ghia',\n",
       " 'pontiac ventura sj',\n",
       " 'amc pacer d/l',\n",
       " 'ford pinto',\n",
       " 'plymouth volare premier v8',\n",
       " 'cadillac seville',\n",
       " 'chevy c10',\n",
       " 'ford f108',\n",
       " 'dodge d100',\n",
       " 'buick opel isuzu deluxe',\n",
       " 'plymouth arrow gs',\n",
       " 'chevrolet caprice classic',\n",
       " 'oldsmobile cutlass supreme',\n",
       " 'dodge monaco brougham',\n",
       " 'mercury cougar brougham',\n",
       " 'chevrolet concours',\n",
       " 'buick skylark',\n",
       " 'plymouth volare custom',\n",
       " 'ford granada',\n",
       " 'pontiac grand prix lj',\n",
       " 'chevrolet monte carlo landau',\n",
       " 'chrysler cordoba',\n",
       " 'ford thunderbird',\n",
       " 'pontiac sunbird coupe',\n",
       " 'ford mustang ii 2+2',\n",
       " 'chevrolet chevette',\n",
       " 'dodge colt m/m',\n",
       " 'ford fiesta',\n",
       " 'oldsmobile cutlass salon brougham',\n",
       " 'dodge diplomat',\n",
       " 'mercury monarch ghia',\n",
       " 'pontiac phoenix lj',\n",
       " 'chevrolet malibu',\n",
       " 'ford fairmont (auto)',\n",
       " 'ford fairmont (man)',\n",
       " 'plymouth volare',\n",
       " 'amc concord',\n",
       " 'buick century special',\n",
       " 'mercury zephyr',\n",
       " 'dodge aspen',\n",
       " 'amc concord d/l',\n",
       " 'chevrolet monte carlo landau',\n",
       " 'buick regal sport coupe (turbo)',\n",
       " 'ford futura',\n",
       " 'dodge magnum xe',\n",
       " 'chevrolet chevette',\n",
       " 'dodge omni',\n",
       " 'plymouth sapporo',\n",
       " 'oldsmobile starfire sx',\n",
       " 'pontiac lemans v6',\n",
       " 'mercury zephyr 6',\n",
       " 'ford fairmont 4',\n",
       " 'amc concord dl 6',\n",
       " 'dodge aspen 6',\n",
       " 'chevrolet caprice classic',\n",
       " 'ford ltd landau',\n",
       " 'mercury grand marquis',\n",
       " 'dodge st. regis',\n",
       " 'buick estate wagon (sw)',\n",
       " 'ford country squire (sw)',\n",
       " 'chevrolet malibu classic (sw)',\n",
       " 'chrysler lebaron town @ country (sw)',\n",
       " 'dodge colt hatchback custom',\n",
       " 'amc spirit dl',\n",
       " 'cadillac eldorado',\n",
       " 'oldsmobile cutlass salon brougham',\n",
       " 'plymouth horizon',\n",
       " 'plymouth horizon tc3',\n",
       " 'buick skylark limited',\n",
       " 'chevrolet citation',\n",
       " 'oldsmobile omega brougham',\n",
       " 'pontiac phoenix',\n",
       " 'chevrolet chevette',\n",
       " 'chevrolet citation',\n",
       " 'ford fairmont',\n",
       " 'amc concord',\n",
       " 'dodge aspen',\n",
       " 'dodge colt',\n",
       " 'ford mustang cobra',\n",
       " 'plymouth reliant',\n",
       " 'buick skylark',\n",
       " 'dodge aries wagon (sw)',\n",
       " 'chevrolet citation',\n",
       " 'plymouth reliant',\n",
       " 'plymouth champ',\n",
       " 'plymouth horizon 4',\n",
       " 'ford escort 4w',\n",
       " 'ford escort 2h',\n",
       " 'buick century',\n",
       " 'oldsmobile cutlass ls',\n",
       " 'ford granada gl',\n",
       " 'chrysler lebaron salon',\n",
       " 'chevrolet cavalier',\n",
       " 'chevrolet cavalier wagon',\n",
       " 'chevrolet cavalier 2-door',\n",
       " 'pontiac j2000 se hatchback',\n",
       " 'dodge aries se',\n",
       " 'pontiac phoenix',\n",
       " 'ford fairmont futura',\n",
       " 'amc concord dl',\n",
       " 'plymouth horizon miser',\n",
       " 'mercury lynx l',\n",
       " 'buick century limited',\n",
       " 'oldsmobile cutlass ciera (diesel)',\n",
       " 'chrysler lebaron medallion',\n",
       " 'ford granada l',\n",
       " 'dodge charger 2.2',\n",
       " 'chevrolet camaro',\n",
       " 'ford mustang gl',\n",
       " 'dodge rampage',\n",
       " 'ford ranger',\n",
       " 'chevy s-10']"
      ]
     },
     "execution_count": 53,
     "metadata": {},
     "output_type": "execute_result"
    }
   ],
   "source": [
    "list(mpg[\"name\"])"
   ]
  },
  {
   "cell_type": "code",
   "execution_count": null,
   "metadata": {},
   "outputs": [],
   "source": []
  },
  {
   "cell_type": "code",
   "execution_count": null,
   "metadata": {},
   "outputs": [],
   "source": []
  }
 ],
 "metadata": {
  "kernelspec": {
   "display_name": "Python 3",
   "language": "python",
   "name": "python3"
  },
  "language_info": {
   "codemirror_mode": {
    "name": "ipython",
    "version": 3
   },
   "file_extension": ".py",
   "mimetype": "text/x-python",
   "name": "python",
   "nbconvert_exporter": "python",
   "pygments_lexer": "ipython3",
   "version": "3.8.3"
  }
 },
 "nbformat": 4,
 "nbformat_minor": 4
}
