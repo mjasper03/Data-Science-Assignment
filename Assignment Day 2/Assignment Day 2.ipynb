{
 "cells": [
  {
   "cell_type": "markdown",
   "metadata": {},
   "source": [
    "# ASSIGNMENT DAY 2"
   ]
  },
  {
   "cell_type": "markdown",
   "metadata": {},
   "source": [
    "# 1"
   ]
  },
  {
   "cell_type": "code",
   "execution_count": 11,
   "metadata": {},
   "outputs": [
    {
     "name": "stdout",
     "output_type": "stream",
     "text": [
      "1\n",
      "2\n",
      "3\n",
      "4\n",
      "5\n",
      "6\n",
      "7\n",
      "8\n",
      "9\n",
      "0\n",
      "The Evn numbers are  [2, 4, 6, 8]\n"
     ]
    }
   ],
   "source": [
    "even_no =[]\n",
    "for i in range(10):\n",
    "    nos = int(input(\"\"))\n",
    "    if nos%2==0 and nos!=0:\n",
    "        even_no.append(nos)\n",
    "print(\"The Evn numbers are \",even_no)\n"
   ]
  },
  {
   "cell_type": "markdown",
   "metadata": {},
   "source": [
    "# 2"
   ]
  },
  {
   "cell_type": "markdown",
   "metadata": {},
   "source": [
    "LIST COMPREHENSION"
   ]
  },
  {
   "cell_type": "code",
   "execution_count": 24,
   "metadata": {},
   "outputs": [
    {
     "name": "stdout",
     "output_type": "stream",
     "text": [
      "[0, 1, 2, 3, 4, 5, 6, 7, 8, 9]\n",
      "[2, 4, 6, 8]\n",
      "[0, 1, 4, 9, 16, 25, 36, 49, 64, 81]\n"
     ]
    }
   ],
   "source": [
    "list1=[num for num in range(10)] #printing from 0-10\n",
    "print(list1)\n",
    "list2=[num for num in range(10) if num%2==0 and num!=0] #printing even numbers\n",
    "print(list2)\n",
    "list3=[num**2 for num in range(10)] #printing squares\n",
    "print(list3)"
   ]
  },
  {
   "cell_type": "markdown",
   "metadata": {},
   "source": [
    "# 3"
   ]
  },
  {
   "cell_type": "code",
   "execution_count": 14,
   "metadata": {},
   "outputs": [
    {
     "name": "stdout",
     "output_type": "stream",
     "text": [
      "4\n",
      "{1: 1, 2: 4, 3: 9, 4: 16}\n"
     ]
    }
   ],
   "source": [
    "squares={}\n",
    "n=int(input(\"\"))\n",
    "for i in range(1,n+1):\n",
    "    squares[i]=i*i\n",
    "print(squares)\n",
    "    "
   ]
  },
  {
   "cell_type": "markdown",
   "metadata": {},
   "source": [
    "# 4"
   ]
  },
  {
   "cell_type": "code",
   "execution_count": 13,
   "metadata": {},
   "outputs": [
    {
     "name": "stdout",
     "output_type": "stream",
     "text": [
      "4\n",
      "UP 5\n",
      "DOWN 3\n",
      "LEFT 3\n",
      "RIGHT 2\n",
      "2\n"
     ]
    }
   ],
   "source": [
    "x=0\n",
    "y=0\n",
    "steps=int(input())\n",
    "for i in range(0,steps):\n",
    "    step=input(\"\")\n",
    "    stepcount=int(step[-1])\n",
    "    if \"UP\" in step:\n",
    "        x=x+stepcount\n",
    "    elif \"DOWN\" in step:\n",
    "        x=x-stepcount\n",
    "    elif \"LEFT\" in step:\n",
    "        y=y-stepcount\n",
    "    elif \"RIGHT\" in step:\n",
    "        y=y+stepcount\n",
    "def conventional(a,b):\n",
    "    return (int(((a-b)**2)**0.5))\n",
    "def pythogoras(a,b):\n",
    "    return ((a**2)+(b**2))\n",
    "if x==0:\n",
    "    print(conventional(x,y))\n",
    "elif y==0:\n",
    "    print(conventional(x,y))\n",
    "else:\n",
    "    p=pythogoras(x,y)\n",
    "    print (int(p**0.5))\n",
    "    \n",
    "        "
   ]
  }
 ],
 "metadata": {
  "kernelspec": {
   "display_name": "Python 3",
   "language": "python",
   "name": "python3"
  },
  "language_info": {
   "codemirror_mode": {
    "name": "ipython",
    "version": 3
   },
   "file_extension": ".py",
   "mimetype": "text/x-python",
   "name": "python",
   "nbconvert_exporter": "python",
   "pygments_lexer": "ipython3",
   "version": "3.8.3"
  }
 },
 "nbformat": 4,
 "nbformat_minor": 4
}
